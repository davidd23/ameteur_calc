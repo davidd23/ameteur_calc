{
 "cells": [
  {
   "cell_type": "code",
   "execution_count": 1,
   "metadata": {},
   "outputs": [],
   "source": [
    "import matplotlib.pyplot as plt\n",
    "import numpy as np\n",
    "%matplotlib inline"
   ]
  },
  {
   "cell_type": "markdown",
   "metadata": {},
   "source": [
    "Possible integration formula: <br>\n",
    "<h2>$$\\sum_{k=0}^{\\frac{x_{2}-x_{1}}{h}}[f(x_{1}+kh)h]$$</h2>"
   ]
  },
  {
   "cell_type": "code",
   "execution_count": 2,
   "metadata": {},
   "outputs": [
    {
     "data": {
      "image/png": "[encoded data removed]",
      "text/plain": [
       "<Figure size 432x288 with 1 Axes>"
      ]
     },
     "metadata": {
      "needs_background": "light"
     },
     "output_type": "display_data"
    },
    {
     "name": "stdin",
     "output_type": "stream",
     "text": [
      "Where would you like your lower bound?  0\n",
      "Where would you like your upper bound?  9\n"
     ]
    },
    {
     "name": "stdout",
     "output_type": "stream",
     "text": [
      "The area under the curve between your bounds:  242.99959500015595\n"
     ]
    }
   ],
   "source": [
    "def deriv(f,x):\n",
    "    h = 0.00001\n",
    "    return (f(x+h)-f(x))/h\n",
    "\n",
    "def integ(f, x_1, x_2):\n",
    "    h = 0.00001\n",
    "    k = 0\n",
    "    result = 0\n",
    "    \n",
    "    while k < (x_2-x_1)/h:\n",
    "        result += f(x_1 + k*h)*h\n",
    "        k += 1\n",
    "    \n",
    "    return result\n",
    "\n",
    "def tangent_line(f, x_0, start, stop):\n",
    "    x = np.linspace(start, stop, 200)\n",
    "    y = f(x)\n",
    "    y_0 = f(x_0)\n",
    "    y_tan = deriv(f, x_0) * (x - x_0) + y_0\n",
    "    \n",
    "    plt.ylim([0, 100])\n",
    "    plt.xlim([0, 9])\n",
    "    plt.plot(x,y,'r-') #func(x)\n",
    "    plt.plot(x,y_tan,'g-') #y_tan\n",
    "    plt.show()\n",
    "\n",
    "def func(x):\n",
    "    return x**2  \n",
    "    \n",
    "tangent_line(func, 4, -3, 10)\n",
    "integ_start = input('Where would you like your lower bound? ')\n",
    "integ_start = int(integ_start)\n",
    "integ_stop = input('Where would you like your upper bound? ')\n",
    "integ_stop = int(integ_stop)\n",
    "print('The area under the curve between your bounds: ',integ(func, integ_start, integ_stop))"
   ]
  },
  {
   "cell_type": "code",
   "execution_count": null,
   "metadata": {},
   "outputs": [],
   "source": []
  }
 ],
 "metadata": {
  "kernelspec": {
   "display_name": "Python 3",
   "language": "python",
   "name": "python3"
  },
  "language_info": {
   "codemirror_mode": {
    "name": "ipython",
    "version": 3
   },
   "file_extension": ".py",
   "mimetype": "text/x-python",
   "name": "python",
   "nbconvert_exporter": "python",
   "pygments_lexer": "ipython3",
   "version": "3.7.4"
  }
 },
 "nbformat": 4,
 "nbformat_minor": 4
}
